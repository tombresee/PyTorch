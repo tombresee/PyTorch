{
 "cells": [
  {
   "cell_type": "code",
   "execution_count": 1,
   "metadata": {
    "id": "QF--g1h41hP1"
   },
   "outputs": [],
   "source": [
    "%matplotlib inline"
   ]
  },
  {
   "cell_type": "markdown",
   "metadata": {
    "id": "Oexqy1-p1hP4"
   },
   "source": [
    "\n",
    "How to use TensorBoard with PyTorch\n",
    "===================================\n",
    "TensorBoard is a visualization toolkit for machine learning experimentation. \n",
    "TensorBoard allows tracking and visualizing metrics such as loss and accuracy, \n",
    "visualizing the model graph, viewing histograms, displaying images and much more. \n",
    "In this tutorial we are going to cover TensorBoard installation, \n",
    "basic usage with PyTorch, and how to visualize data you logged in TensorBoard UI.\n",
    "\n",
    "Installation\n",
    "----------------------\n",
    "PyTorch should be installed to log models and metrics into TensorBoard log \n",
    "directory. The following command will install PyTorch 1.4+ via \n",
    "Anaconda (recommended):\n",
    "\n",
    "::\n",
    "\n",
    "   $ conda install pytorch torchvision -c pytorch \n",
    "   \n",
    "\n",
    "or pip\n",
    "\n",
    "::\n",
    "\n",
    "   $ pip install torch torchvision\n",
    "\n",
    "\n"
   ]
  },
  {
   "cell_type": "markdown",
   "metadata": {
    "id": "xwfbHmd01hP4"
   },
   "source": [
    "Using TensorBoard in PyTorch\n",
    "-----\n",
    "\n",
    "Let’s now try using TensorBoard with PyTorch! Before logging anything, \n",
    "we need to create a ``SummaryWriter`` instance.\n",
    "\n",
    "\n"
   ]
  },
  {
   "cell_type": "code",
   "execution_count": 2,
   "metadata": {
    "id": "tgi2EPM_1hP5"
   },
   "outputs": [],
   "source": [
    "import torch\n",
    "from torch.utils.tensorboard import SummaryWriter\n",
    "writer = SummaryWriter()"
   ]
  },
  {
   "cell_type": "markdown",
   "metadata": {
    "id": "n7a6zxHh1hP7"
   },
   "source": [
    "Writer will output to ``./runs/`` directory by default.\n",
    "\n",
    "\n"
   ]
  },
  {
   "cell_type": "markdown",
   "metadata": {
    "id": "EkbiKe-s1hP7"
   },
   "source": [
    "Log scalars\n",
    "-----\n",
    "\n",
    "In machine learning, it’s important to understand key metrics such as \n",
    "loss and how they change during training. Scalar helps to save \n",
    "the loss value of each training step, or the accuracy after each epoch. \n",
    "\n",
    "To log a scalar value, use \n",
    "``add_scalar(tag, scalar_value, global_step=None, walltime=None)``. \n",
    "For example, lets create a simple linear regression training, and \n",
    "log loss value using ``add_scalar``\n",
    "\n",
    "\n"
   ]
  },
  {
   "cell_type": "code",
   "execution_count": 3,
   "metadata": {
    "id": "0Mw1mcxg1hP7"
   },
   "outputs": [],
   "source": [
    "x = torch.arange(-5, 5, 0.1).view(-1, 1)\n",
    "y = -5 * x + 0.1 * torch.randn(x.size())\n",
    "\n",
    "model = torch.nn.Linear(1, 1)\n",
    "criterion = torch.nn.MSELoss()\n",
    "optimizer = torch.optim.SGD(model.parameters(), lr = 0.1)\n",
    "\n",
    "def train_model(iter):\n",
    "    for epoch in range(iter):\n",
    "        y1 = model(x)\n",
    "        loss = criterion(y1, y)\n",
    "        writer.add_scalar(\"Loss/train\", loss, epoch)\n",
    "        optimizer.zero_grad()\n",
    "        loss.backward()\n",
    "        optimizer.step()\n",
    "        \n",
    "train_model(10)\n",
    "writer.flush()"
   ]
  },
  {
   "cell_type": "markdown",
   "metadata": {
    "id": "pHr4CzsN1hP9"
   },
   "source": [
    "Call ``flush()`` method to make sure that all pending events \n",
    "have been written to disk.\n",
    "\n",
    "See `torch.utils.tensorboard tutorials <https://pytorch.org/docs/stable/tensorboard.html>`_ \n",
    "to find more TensorBoard visualization types you can log.\n",
    "\n",
    "If you do not need the summary writer anymore, call ``close()`` method.\n",
    "\n",
    "\n"
   ]
  },
  {
   "cell_type": "code",
   "execution_count": 4,
   "metadata": {
    "id": "MZ97f2pB1hP-"
   },
   "outputs": [],
   "source": [
    "writer.close()"
   ]
  },
  {
   "cell_type": "code",
   "execution_count": 7,
   "metadata": {
    "colab": {
     "base_uri": "https://localhost:8080/"
    },
    "id": "8SQ--6SK11j6",
    "outputId": "85ee98a4-eb29-4a80-fc03-3910822c893e"
   },
   "outputs": [
    {
     "name": "stdout",
     "output_type": "stream",
     "text": [
      "Requirement already satisfied: tensorboard in c:\\users\\tbresee\\anaconda3\\lib\\site-packages (2.3.0)\n",
      "Requirement already satisfied: werkzeug>=0.11.15 in c:\\users\\tbresee\\anaconda3\\lib\\site-packages (from tensorboard) (1.0.1)\n",
      "Requirement already satisfied: wheel>=0.26; python_version >= \"3\" in c:\\users\\tbresee\\anaconda3\\lib\\site-packages (from tensorboard) (0.35.1)\n",
      "Requirement already satisfied: setuptools>=41.0.0 in c:\\users\\tbresee\\anaconda3\\lib\\site-packages (from tensorboard) (50.3.0.post20201006)\n",
      "Requirement already satisfied: google-auth-oauthlib<0.5,>=0.4.1 in c:\\users\\tbresee\\anaconda3\\lib\\site-packages (from tensorboard) (0.4.1)\n",
      "Requirement already satisfied: markdown>=2.6.8 in c:\\users\\tbresee\\anaconda3\\lib\\site-packages (from tensorboard) (3.3.2)\n",
      "Requirement already satisfied: grpcio>=1.24.3 in c:\\users\\tbresee\\anaconda3\\lib\\site-packages (from tensorboard) (1.33.2)\n",
      "Requirement already satisfied: google-auth<2,>=1.6.3 in c:\\users\\tbresee\\anaconda3\\lib\\site-packages (from tensorboard) (1.23.0)\n",
      "Requirement already satisfied: numpy>=1.12.0 in c:\\users\\tbresee\\anaconda3\\lib\\site-packages (from tensorboard) (1.19.2)\n"
     ]
    },
    {
     "name": "stderr",
     "output_type": "stream",
     "text": [
      "WARNING: No metadata found in c:\\users\\tbresee\\anaconda3\\lib\\site-packages\n",
      "ERROR: Could not install packages due to an EnvironmentError: [Errno 2] No such file or directory: 'c:\\\\users\\\\tbresee\\\\anaconda3\\\\lib\\\\site-packages\\\\numpy-1.19.2.dist-info\\\\METADATA'\n",
      "\n"
     ]
    }
   ],
   "source": [
    "! pip install tensorboard"
   ]
  },
  {
   "cell_type": "code",
   "execution_count": 6,
   "metadata": {
    "colab": {
     "base_uri": "https://localhost:8080/"
    },
    "id": "-2qbO0yR155i",
    "outputId": "cf7d585f-bfe2-4021-9ec5-e5026ec1e77e"
   },
   "outputs": [
    {
     "name": "stderr",
     "output_type": "stream",
     "text": [
      "TensorFlow installation not found - running with reduced feature set.\n",
      "Traceback (most recent call last):\n",
      "  File \"C:\\Users\\tbresee\\Anaconda3\\lib\\site-packages\\pkg_resources\\__init__.py\", line 3012, in _dep_map\n",
      "    return self.__dep_map\n",
      "  File \"C:\\Users\\tbresee\\Anaconda3\\lib\\site-packages\\pkg_resources\\__init__.py\", line 2810, in __getattr__\n",
      "    raise AttributeError(attr)\n",
      "AttributeError: _DistInfoDistribution__dep_map\n",
      "\n",
      "During handling of the above exception, another exception occurred:\n",
      "\n",
      "Traceback (most recent call last):\n",
      "  File \"C:\\Users\\tbresee\\Anaconda3\\lib\\site-packages\\pkg_resources\\__init__.py\", line 3003, in _parsed_pkg_info\n",
      "    return self._pkg_info\n",
      "  File \"C:\\Users\\tbresee\\Anaconda3\\lib\\site-packages\\pkg_resources\\__init__.py\", line 2810, in __getattr__\n",
      "    raise AttributeError(attr)\n",
      "AttributeError: _pkg_info\n",
      "\n",
      "During handling of the above exception, another exception occurred:\n",
      "\n",
      "Traceback (most recent call last):\n",
      "  File \"C:\\Users\\tbresee\\Anaconda3\\Scripts\\tensorboard-script.py\", line 9, in <module>\n",
      "    sys.exit(run_main())\n",
      "  File \"C:\\Users\\tbresee\\Anaconda3\\lib\\site-packages\\tensorboard\\main.py\", line 65, in run_main\n",
      "    default.get_plugins(),\n",
      "  File \"C:\\Users\\tbresee\\Anaconda3\\lib\\site-packages\\tensorboard\\default.py\", line 113, in get_plugins\n",
      "    return get_static_plugins() + get_dynamic_plugins()\n",
      "  File \"C:\\Users\\tbresee\\Anaconda3\\lib\\site-packages\\tensorboard\\default.py\", line 148, in get_dynamic_plugins\n",
      "    return [\n",
      "  File \"C:\\Users\\tbresee\\Anaconda3\\lib\\site-packages\\tensorboard\\default.py\", line 149, in <listcomp>\n",
      "    entry_point.load()\n",
      "  File \"C:\\Users\\tbresee\\Anaconda3\\lib\\site-packages\\pkg_resources\\__init__.py\", line 2446, in load\n",
      "    self.require(*args, **kwargs)\n",
      "  File \"C:\\Users\\tbresee\\Anaconda3\\lib\\site-packages\\pkg_resources\\__init__.py\", line 2469, in require\n",
      "    items = working_set.resolve(reqs, env, installer, extras=self.extras)\n",
      "  File \"C:\\Users\\tbresee\\Anaconda3\\lib\\site-packages\\pkg_resources\\__init__.py\", line 778, in resolve\n",
      "    new_requirements = dist.requires(req.extras)[::-1]\n",
      "  File \"C:\\Users\\tbresee\\Anaconda3\\lib\\site-packages\\pkg_resources\\__init__.py\", line 2731, in requires\n",
      "    dm = self._dep_map\n",
      "  File \"C:\\Users\\tbresee\\Anaconda3\\lib\\site-packages\\pkg_resources\\__init__.py\", line 3014, in _dep_map\n",
      "    self.__dep_map = self._compute_dependencies()\n",
      "  File \"C:\\Users\\tbresee\\Anaconda3\\lib\\site-packages\\pkg_resources\\__init__.py\", line 3023, in _compute_dependencies\n",
      "    for req in self._parsed_pkg_info.get_all('Requires-Dist') or []:\n",
      "  File \"C:\\Users\\tbresee\\Anaconda3\\lib\\site-packages\\pkg_resources\\__init__.py\", line 3005, in _parsed_pkg_info\n",
      "    metadata = self.get_metadata(self.PKG_INFO)\n",
      "  File \"C:\\Users\\tbresee\\Anaconda3\\lib\\site-packages\\pkg_resources\\__init__.py\", line 1405, in get_metadata\n",
      "    value = self._get(path)\n",
      "  File \"C:\\Users\\tbresee\\Anaconda3\\lib\\site-packages\\pkg_resources\\__init__.py\", line 1609, in _get\n",
      "    with open(path, 'rb') as stream:\n",
      "FileNotFoundError: [Errno 2] No such file or directory: 'c:\\\\users\\\\tbresee\\\\anaconda3\\\\lib\\\\site-packages\\\\numpy-1.19.2.dist-info\\\\METADATA'\n"
     ]
    }
   ],
   "source": [
    "! tensorboard --logdir=runs"
   ]
  },
  {
   "cell_type": "markdown",
   "metadata": {
    "id": "l4txRXTj1hP_"
   },
   "source": [
    "Run TensorBoard\n",
    "-----\n",
    "\n",
    "Install TensorBoard through the command line to visualize data you logged\n",
    "\n",
    "::\n",
    "\n",
    "   $ pip install tensorboard\n",
    "\n",
    "\n",
    "Now, start TensorBoard, specifying the root log directory you used above. \n",
    "Argument ``logdir`` points to directory where TensorBoard will look to find \n",
    "event files that it can display. TensorBoard will recursively walk \n",
    "the directory structure rooted at logdir, looking for .*tfevents.* files.\n",
    "\n",
    "::\n",
    "\n",
    "   $ tensorboard --logdir=runs\n",
    "\n",
    "Go to the URL it provides OR to `http://localhost:6006/ <http://localhost:6006/>`_\n",
    "\n",
    "![](https://github.com/pytorch/tutorials/blob/gh-pages/_static/img/thumbnails/tensorboard_scalars.png?raw=1)\n",
    "\n",
    "   :scale: 40 %\n",
    "\n",
    "This dashboard shows how the loss and accuracy change with every epoch. \n",
    "You can use it to also track training speed, learning rate, and other \n",
    "scalar values. It’s helpful to compare these metrics across different \n",
    "training runs to improve your model.\n",
    "\n",
    "\n"
   ]
  },
  {
   "cell_type": "markdown",
   "metadata": {
    "id": "WImCf-kF1hQA"
   },
   "source": [
    "Share TensorBoard dashboards\n",
    "-----\n",
    "\n",
    "`TensorBoard.dev <https://tensorboard.dev/>`_ lets you upload and share \n",
    "your ML experiment results with anyone. Use TensorBoard.dev to host, \n",
    "track, and share your TensorBoard dashboards.\n",
    "\n",
    "Install the latest version of TensorBoard to use the uploader.\n",
    "\n",
    ":: \n",
    "\n",
    "   $ pip install tensorboard --upgrade\n",
    "\n",
    "Use a simple command to upload and share your TensorBoard.\n",
    "\n",
    ":: \n",
    "\n",
    "  $ tensorboard dev upload --logdir runs \\\n",
    "  --name \"My latest experiment\" \\ # optional\n",
    "  --description \"Simple comparison of several hyperparameters\" # optional\n",
    "\n",
    "For help, run ``$ tensorboard dev --help``.\n",
    "\n",
    "**Note:** Uploaded TensorBoards are public and visible to everyone. \n",
    "Do not upload sensitive data.\n",
    "\n",
    "View your TensorBoard live at URL provided in your terminal. \n",
    "E.g. `https://tensorboard.dev/experiment/AdYd1TgeTlaLWXx6I8JUbA <https://tensorboard.dev/experiment/AdYd1TgeTlaLWXx6I8JUbA>`_\n",
    "\n",
    "\n",
    "![](https://github.com/pytorch/tutorials/blob/gh-pages/_static/img/thumbnails/tensorboard_dev.png?raw=1)\n",
    "\n",
    "   :scale: 40 %\n",
    "\n",
    "\n",
    "<div class=\"alert alert-info\"><h4>Note</h4><p>TensorBoard.dev currently supports only scalars dashboard.</p></div>\n",
    "\n"
   ]
  },
  {
   "cell_type": "markdown",
   "metadata": {
    "id": "1pWnaBB21hQA"
   },
   "source": [
    "Learn More\n",
    "----------------------------\n",
    "\n",
    "-  `torch.utils.tensorboard <https://pytorch.org/docs/stable/tensorboard.html>`_ docs\n",
    "-  `Visualizing models, data, and training with TensorBoard <https://pytorch.org/tutorials/intermediate/tensorboard_tutorial.html>`_ tutorial\n",
    "\n",
    "\n"
   ]
  },
  {
   "cell_type": "code",
   "execution_count": null,
   "metadata": {
    "id": "lSu_03LQ1luR"
   },
   "outputs": [],
   "source": []
  },
  {
   "cell_type": "code",
   "execution_count": null,
   "metadata": {},
   "outputs": [],
   "source": []
  },
  {
   "cell_type": "code",
   "execution_count": null,
   "metadata": {},
   "outputs": [],
   "source": []
  }
 ],
 "metadata": {
  "colab": {
   "name": "tensorboard_with_pytorch.ipynb",
   "provenance": []
  },
  "kernelspec": {
   "display_name": "Python 3",
   "language": "python",
   "name": "python3"
  },
  "language_info": {
   "codemirror_mode": {
    "name": "ipython",
    "version": 3
   },
   "file_extension": ".py",
   "mimetype": "text/x-python",
   "name": "python",
   "nbconvert_exporter": "python",
   "pygments_lexer": "ipython3",
   "version": "3.8.5"
  }
 },
 "nbformat": 4,
 "nbformat_minor": 1
}

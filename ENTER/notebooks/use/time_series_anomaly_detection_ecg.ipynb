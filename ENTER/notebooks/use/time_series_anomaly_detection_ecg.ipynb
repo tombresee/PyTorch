{
  "nbformat": 4,
  "nbformat_minor": 0,
  "metadata": {
    "colab": {
      "name": "time-series-anomaly-detection-ecg.ipynb",
      "provenance": [],
      "collapsed_sections": [],
      "include_colab_link": true
    },
    "kernelspec": {
      "name": "python3",
      "display_name": "Python 3"
    },
    "accelerator": "GPU"
  },
  "cells": [
    {
      "cell_type": "markdown",
      "metadata": {
        "id": "view-in-github",
        "colab_type": "text"
      },
      "source": [
        "<a href=\"https://colab.research.google.com/github/tombresee/PyTorch/blob/main/ENTER/notebooks/use/time_series_anomaly_detection_ecg.ipynb\" target=\"_parent\"><img src=\"https://colab.research.google.com/assets/colab-badge.svg\" alt=\"Open In Colab\"/></a>"
      ]
    },
    {
      "cell_type": "markdown",
      "metadata": {
        "id": "o40y8HxDYE3G"
      },
      "source": [
        "# Time Series Anomaly Detection using LSTM Autoencoders with PyTorch in Python"
      ]
    },
    {
      "cell_type": "code",
      "metadata": {
        "id": "NyPqdFSzUW8F",
        "outputId": "41c73c9e-5448-4e52-aaf9-59e26024aa11",
        "colab": {
          "base_uri": "https://localhost:8080/"
        }
      },
      "source": [
        "!nvidia-smi"
      ],
      "execution_count": 1,
      "outputs": [
        {
          "output_type": "stream",
          "text": [
            "Wed Nov  4 20:05:02 2020       \n",
            "+-----------------------------------------------------------------------------+\n",
            "| NVIDIA-SMI 455.32.00    Driver Version: 418.67       CUDA Version: 10.1     |\n",
            "|-------------------------------+----------------------+----------------------+\n",
            "| GPU  Name        Persistence-M| Bus-Id        Disp.A | Volatile Uncorr. ECC |\n",
            "| Fan  Temp  Perf  Pwr:Usage/Cap|         Memory-Usage | GPU-Util  Compute M. |\n",
            "|                               |                      |               MIG M. |\n",
            "|===============================+======================+======================|\n",
            "|   0  Tesla T4            Off  | 00000000:00:04.0 Off |                    0 |\n",
            "| N/A   60C    P8    11W /  70W |      0MiB / 15079MiB |      0%      Default |\n",
            "|                               |                      |                 ERR! |\n",
            "+-------------------------------+----------------------+----------------------+\n",
            "                                                                               \n",
            "+-----------------------------------------------------------------------------+\n",
            "| Processes:                                                                  |\n",
            "|  GPU   GI   CI        PID   Type   Process name                  GPU Memory |\n",
            "|        ID   ID                                                   Usage      |\n",
            "|=============================================================================|\n",
            "|  No running processes found                                                 |\n",
            "+-----------------------------------------------------------------------------+\n"
          ],
          "name": "stdout"
        }
      ]
    },
    {
      "cell_type": "code",
      "metadata": {
        "id": "_9tHU5two_TW",
        "outputId": "6ae1dfdf-a587-42b5-8b68-6dfb37c8baa3",
        "colab": {
          "base_uri": "https://localhost:8080/"
        }
      },
      "source": [
        "!pip install -qq arff2pandas"
      ],
      "execution_count": 2,
      "outputs": [
        {
          "output_type": "stream",
          "text": [
            "  Building wheel for arff2pandas (setup.py) ... \u001b[?25l\u001b[?25hdone\n",
            "  Building wheel for liac-arff (setup.py) ... \u001b[?25l\u001b[?25hdone\n"
          ],
          "name": "stdout"
        }
      ]
    },
    {
      "cell_type": "code",
      "metadata": {
        "id": "XRYTtmMDtLuG"
      },
      "source": [
        "!pip install -q -U watermark"
      ],
      "execution_count": 3,
      "outputs": []
    },
    {
      "cell_type": "code",
      "metadata": {
        "id": "-ugDZzk5bSju"
      },
      "source": [
        "!pip install -qq -U pandas"
      ],
      "execution_count": 4,
      "outputs": []
    },
    {
      "cell_type": "code",
      "metadata": {
        "id": "NgNwOV2jtODd",
        "outputId": "060bae08-c847-4490-bf11-f59ea0ff0171",
        "colab": {
          "base_uri": "https://localhost:8080/"
        }
      },
      "source": [
        "%reload_ext watermark\n",
        "%watermark -v -p numpy,pandas,torch,arff2pandas"
      ],
      "execution_count": 5,
      "outputs": [
        {
          "output_type": "stream",
          "text": [
            "CPython 3.6.9\n",
            "IPython 5.5.0\n",
            "\n",
            "numpy 1.18.5\n",
            "pandas 1.1.4\n",
            "torch 1.7.0+cu101\n",
            "arff2pandas 1.0.1\n"
          ],
          "name": "stdout"
        }
      ]
    },
    {
      "cell_type": "code",
      "metadata": {
        "id": "3RY_N3gOmfDi",
        "outputId": "a79a9c3d-6984-487b-e79c-c83a5205b092",
        "colab": {
          "base_uri": "https://localhost:8080/"
        }
      },
      "source": [
        "import torch\n",
        "\n",
        "import copy\n",
        "import numpy as np\n",
        "import pandas as pd\n",
        "import seaborn as sns\n",
        "from pylab import rcParams\n",
        "import matplotlib.pyplot as plt\n",
        "from matplotlib import rc\n",
        "from sklearn.model_selection import train_test_split\n",
        "\n",
        "from torch import nn, optim\n",
        "\n",
        "import torch.nn.functional as F\n",
        "from arff2pandas import a2p\n",
        "\n",
        "\n",
        "%matplotlib inline\n",
        "%config InlineBackend.figure_format='retina'\n",
        "\n",
        "sns.set(style='whitegrid', palette='muted', font_scale=1.2)\n",
        "\n",
        "HAPPY_COLORS_PALETTE = [\"#01BEFE\", \"#FFDD00\", \"#FF7D00\", \"#FF006D\", \"#ADFF02\", \"#8F00FF\"]\n",
        "\n",
        "sns.set_palette(sns.color_palette(HAPPY_COLORS_PALETTE))\n",
        "\n",
        "rcParams['figure.figsize'] = 12, 8\n",
        "\n",
        "RANDOM_SEED = 42\n",
        "np.random.seed(RANDOM_SEED)\n",
        "torch.manual_seed(RANDOM_SEED)"
      ],
      "execution_count": 6,
      "outputs": [
        {
          "output_type": "execute_result",
          "data": {
            "text/plain": [
              "<torch._C.Generator at 0x7f80c34e3648>"
            ]
          },
          "metadata": {
            "tags": []
          },
          "execution_count": 6
        }
      ]
    },
    {
      "cell_type": "markdown",
      "metadata": {
        "id": "RN0e4KktjE88"
      },
      "source": [
        "In this tutorial, you'll learn how to detect anomalies in Time Series data using an LSTM Autoencoder. You're going to use real-world ECG data from a single patient with heart disease to detect abnormal hearbeats.\n",
        "\n",
        "- [Read the tutorial](https://www.curiousily.com/posts/time-series-anomaly-detection-using-lstm-autoencoder-with-pytorch-in-python/)\n",
        "- [Run the notebook in your browser (Google Colab)](https://colab.research.google.com/drive/1_J2MrBSvsJfOcVmYAN2-WSp36BtsFZCa)\n",
        "- [Read the Getting Things Done with Pytorch book](https://github.com/curiousily/Getting-Things-Done-with-Pytorch)\n",
        "\n",
        "By the end of this tutorial, you'll learn how to:\n",
        "\n",
        "- Prepare a dataset for Anomaly Detection from Time Series Data\n",
        "- Build an LSTM Autoencoder with PyTorch\n",
        "- Train and evaluate your model\n",
        "- Choose a threshold for anomaly detection\n",
        "- Classify unseen examples as normal or anomaly"
      ]
    },
    {
      "cell_type": "markdown",
      "metadata": {
        "id": "ZnW3JsIFW_Yw"
      },
      "source": [
        "## Data\n",
        "\n",
        "\n",
        "\n",
        "The [dataset](http://timeseriesclassification.com/description.php?Dataset=ECG5000) contains 5,000 Time Series examples (obtained with ECG) with 140 timesteps. Each sequence corresponds to a single heartbeat from a single patient with congestive heart failure.\n",
        "\n",
        "> An electrocardiogram (ECG or EKG) is a test that checks how your heart is functioning by measuring the electrical activity of the heart. With each heart beat, an electrical impulse (or wave) travels through your heart. This wave causes the muscle to squeeze and pump blood from the heart. [Source](https://www.heartandstroke.ca/heart/tests/electrocardiogram)\n",
        "\n",
        "We have 5 types of hearbeats (classes):\n",
        "\n",
        "- Normal (N) \n",
        "- R-on-T Premature Ventricular Contraction (R-on-T PVC)\n",
        "- Premature Ventricular Contraction (PVC)\n",
        "- Supra-ventricular Premature or Ectopic Beat (SP or EB) \n",
        "- Unclassified Beat (UB).\n",
        "\n",
        "> Assuming a healthy heart and a typical rate of 70 to 75 beats per minute, each cardiac cycle, or heartbeat, takes about 0.8 seconds to complete the cycle.\n",
        "Frequency: 60–100 per minute (Humans)\n",
        "Duration: 0.6–1 second (Humans) [Source](https://en.wikipedia.org/wiki/Cardiac_cycle)\n",
        "\n",
        "The dataset is available on my Google Drive. Let's get it:"
      ]
    },
    {
      "cell_type": "code",
      "metadata": {
        "id": "dDlfeY2VAYdU",
        "outputId": "b312502a-1701-4fcd-e42a-9cedf063c6b4",
        "colab": {
          "base_uri": "https://localhost:8080/"
        }
      },
      "source": [
        "!gdown --id 16MIleqoIr1vYxlGk4GKnGmrsCPuWkkpT"
      ],
      "execution_count": 7,
      "outputs": [
        {
          "output_type": "stream",
          "text": [
            "Downloading...\n",
            "From: https://drive.google.com/uc?id=16MIleqoIr1vYxlGk4GKnGmrsCPuWkkpT\n",
            "To: /content/ECG5000.zip\n",
            "10.6MB [00:00, 29.1MB/s]\n"
          ],
          "name": "stdout"
        }
      ]
    },
    {
      "cell_type": "code",
      "metadata": {
        "id": "L_gYlNi2AaOK"
      },
      "source": [
        "!unzip -qq ECG5000.zip"
      ],
      "execution_count": 8,
      "outputs": []
    },
    {
      "cell_type": "code",
      "metadata": {
        "id": "DFWsBcdWjDkU"
      },
      "source": [
        "device = torch.device(\"cuda\" if torch.cuda.is_available() else \"cpu\")"
      ],
      "execution_count": 9,
      "outputs": []
    },
    {
      "cell_type": "markdown",
      "metadata": {
        "id": "iVrX_m4CBAD6"
      },
      "source": [
        "The data comes in multiple formats. We'll load the `arff` files into Pandas data frames:"
      ]
    },
    {
      "cell_type": "code",
      "metadata": {
        "id": "sh_8XjtEBVYq"
      },
      "source": [
        "with open('ECG5000_TRAIN.arff') as f:\n",
        "  train = a2p.load(f)\n",
        "\n",
        "with open('ECG5000_TEST.arff') as f:\n",
        "  test = a2p.load(f)"
      ],
      "execution_count": 10,
      "outputs": []
    },
    {
      "cell_type": "markdown",
      "metadata": {
        "id": "UDtaZ2uTCG11"
      },
      "source": [
        "We'll combine the training and test data into a single data frame. This will give us more data to train our Autoencoder. We'll also shuffle it:"
      ]
    },
    {
      "cell_type": "code",
      "metadata": {
        "id": "tAyxwvbB5-9o",
        "outputId": "a2a704f8-5fe8-463e-ed31-d60d163460d1",
        "colab": {
          "base_uri": "https://localhost:8080/"
        }
      },
      "source": [
        "df = train.append(test)\n",
        "df = df.sample(frac=1.0)\n",
        "df.shape"
      ],
      "execution_count": 11,
      "outputs": [
        {
          "output_type": "execute_result",
          "data": {
            "text/plain": [
              "(5000, 141)"
            ]
          },
          "metadata": {
            "tags": []
          },
          "execution_count": 11
        }
      ]
    },
    {
      "cell_type": "code",
      "metadata": {
        "id": "KpkkVdrLCSAs",
        "outputId": "040c2134-d904-417f-97d3-d34e9e3ac926",
        "colab": {
          "base_uri": "https://localhost:8080/",
          "height": 253
        }
      },
      "source": [
        "df.head()"
      ],
      "execution_count": 12,
      "outputs": [
        {
          "output_type": "execute_result",
          "data": {
            "text/html": [
              "<div>\n",
              "<style scoped>\n",
              "    .dataframe tbody tr th:only-of-type {\n",
              "        vertical-align: middle;\n",
              "    }\n",
              "\n",
              "    .dataframe tbody tr th {\n",
              "        vertical-align: top;\n",
              "    }\n",
              "\n",
              "    .dataframe thead th {\n",
              "        text-align: right;\n",
              "    }\n",
              "</style>\n",
              "<table border=\"1\" class=\"dataframe\">\n",
              "  <thead>\n",
              "    <tr style=\"text-align: right;\">\n",
              "      <th></th>\n",
              "      <th>att1@NUMERIC</th>\n",
              "      <th>att2@NUMERIC</th>\n",
              "      <th>att3@NUMERIC</th>\n",
              "      <th>att4@NUMERIC</th>\n",
              "      <th>att5@NUMERIC</th>\n",
              "      <th>att6@NUMERIC</th>\n",
              "      <th>att7@NUMERIC</th>\n",
              "      <th>att8@NUMERIC</th>\n",
              "      <th>att9@NUMERIC</th>\n",
              "      <th>att10@NUMERIC</th>\n",
              "      <th>att11@NUMERIC</th>\n",
              "      <th>att12@NUMERIC</th>\n",
              "      <th>att13@NUMERIC</th>\n",
              "      <th>att14@NUMERIC</th>\n",
              "      <th>att15@NUMERIC</th>\n",
              "      <th>att16@NUMERIC</th>\n",
              "      <th>att17@NUMERIC</th>\n",
              "      <th>att18@NUMERIC</th>\n",
              "      <th>att19@NUMERIC</th>\n",
              "      <th>att20@NUMERIC</th>\n",
              "      <th>att21@NUMERIC</th>\n",
              "      <th>att22@NUMERIC</th>\n",
              "      <th>att23@NUMERIC</th>\n",
              "      <th>att24@NUMERIC</th>\n",
              "      <th>att25@NUMERIC</th>\n",
              "      <th>att26@NUMERIC</th>\n",
              "      <th>att27@NUMERIC</th>\n",
              "      <th>att28@NUMERIC</th>\n",
              "      <th>att29@NUMERIC</th>\n",
              "      <th>att30@NUMERIC</th>\n",
              "      <th>att31@NUMERIC</th>\n",
              "      <th>att32@NUMERIC</th>\n",
              "      <th>att33@NUMERIC</th>\n",
              "      <th>att34@NUMERIC</th>\n",
              "      <th>att35@NUMERIC</th>\n",
              "      <th>att36@NUMERIC</th>\n",
              "      <th>att37@NUMERIC</th>\n",
              "      <th>att38@NUMERIC</th>\n",
              "      <th>att39@NUMERIC</th>\n",
              "      <th>att40@NUMERIC</th>\n",
              "      <th>...</th>\n",
              "      <th>att102@NUMERIC</th>\n",
              "      <th>att103@NUMERIC</th>\n",
              "      <th>att104@NUMERIC</th>\n",
              "      <th>att105@NUMERIC</th>\n",
              "      <th>att106@NUMERIC</th>\n",
              "      <th>att107@NUMERIC</th>\n",
              "      <th>att108@NUMERIC</th>\n",
              "      <th>att109@NUMERIC</th>\n",
              "      <th>att110@NUMERIC</th>\n",
              "      <th>att111@NUMERIC</th>\n",
              "      <th>att112@NUMERIC</th>\n",
              "      <th>att113@NUMERIC</th>\n",
              "      <th>att114@NUMERIC</th>\n",
              "      <th>att115@NUMERIC</th>\n",
              "      <th>att116@NUMERIC</th>\n",
              "      <th>att117@NUMERIC</th>\n",
              "      <th>att118@NUMERIC</th>\n",
              "      <th>att119@NUMERIC</th>\n",
              "      <th>att120@NUMERIC</th>\n",
              "      <th>att121@NUMERIC</th>\n",
              "      <th>att122@NUMERIC</th>\n",
              "      <th>att123@NUMERIC</th>\n",
              "      <th>att124@NUMERIC</th>\n",
              "      <th>att125@NUMERIC</th>\n",
              "      <th>att126@NUMERIC</th>\n",
              "      <th>att127@NUMERIC</th>\n",
              "      <th>att128@NUMERIC</th>\n",
              "      <th>att129@NUMERIC</th>\n",
              "      <th>att130@NUMERIC</th>\n",
              "      <th>att131@NUMERIC</th>\n",
              "      <th>att132@NUMERIC</th>\n",
              "      <th>att133@NUMERIC</th>\n",
              "      <th>att134@NUMERIC</th>\n",
              "      <th>att135@NUMERIC</th>\n",
              "      <th>att136@NUMERIC</th>\n",
              "      <th>att137@NUMERIC</th>\n",
              "      <th>att138@NUMERIC</th>\n",
              "      <th>att139@NUMERIC</th>\n",
              "      <th>att140@NUMERIC</th>\n",
              "      <th>target@{1,2,3,4,5}</th>\n",
              "    </tr>\n",
              "  </thead>\n",
              "  <tbody>\n",
              "    <tr>\n",
              "      <th>1001</th>\n",
              "      <td>1.469756</td>\n",
              "      <td>-1.048520</td>\n",
              "      <td>-3.394356</td>\n",
              "      <td>-4.254399</td>\n",
              "      <td>-4.162834</td>\n",
              "      <td>-3.822570</td>\n",
              "      <td>-3.003609</td>\n",
              "      <td>-1.799773</td>\n",
              "      <td>-1.500033</td>\n",
              "      <td>-1.025095</td>\n",
              "      <td>-0.166753</td>\n",
              "      <td>0.011275</td>\n",
              "      <td>-0.147008</td>\n",
              "      <td>-0.088714</td>\n",
              "      <td>-0.114587</td>\n",
              "      <td>-0.146307</td>\n",
              "      <td>-0.157915</td>\n",
              "      <td>-0.027796</td>\n",
              "      <td>-0.214186</td>\n",
              "      <td>-0.141600</td>\n",
              "      <td>-0.210829</td>\n",
              "      <td>-0.203778</td>\n",
              "      <td>-0.153019</td>\n",
              "      <td>-0.266533</td>\n",
              "      <td>-0.390077</td>\n",
              "      <td>-0.327032</td>\n",
              "      <td>-0.400833</td>\n",
              "      <td>-0.407830</td>\n",
              "      <td>-0.501358</td>\n",
              "      <td>-0.522868</td>\n",
              "      <td>-0.574155</td>\n",
              "      <td>-0.659348</td>\n",
              "      <td>-0.663703</td>\n",
              "      <td>-0.724858</td>\n",
              "      <td>-0.682038</td>\n",
              "      <td>-0.770026</td>\n",
              "      <td>-0.798246</td>\n",
              "      <td>-0.747866</td>\n",
              "      <td>-0.758533</td>\n",
              "      <td>-0.591910</td>\n",
              "      <td>...</td>\n",
              "      <td>1.487003</td>\n",
              "      <td>1.675518</td>\n",
              "      <td>1.836158</td>\n",
              "      <td>1.767251</td>\n",
              "      <td>1.735520</td>\n",
              "      <td>1.630994</td>\n",
              "      <td>1.380285</td>\n",
              "      <td>1.062822</td>\n",
              "      <td>0.829051</td>\n",
              "      <td>0.559157</td>\n",
              "      <td>0.189454</td>\n",
              "      <td>-0.083072</td>\n",
              "      <td>-0.387828</td>\n",
              "      <td>-0.484409</td>\n",
              "      <td>-0.490306</td>\n",
              "      <td>-0.518586</td>\n",
              "      <td>-0.419299</td>\n",
              "      <td>-0.440095</td>\n",
              "      <td>-0.357985</td>\n",
              "      <td>-0.486044</td>\n",
              "      <td>-0.486691</td>\n",
              "      <td>-0.376997</td>\n",
              "      <td>-0.444405</td>\n",
              "      <td>-0.295011</td>\n",
              "      <td>-0.381458</td>\n",
              "      <td>-0.357774</td>\n",
              "      <td>-0.308135</td>\n",
              "      <td>-0.068073</td>\n",
              "      <td>0.510416</td>\n",
              "      <td>0.873347</td>\n",
              "      <td>0.945178</td>\n",
              "      <td>1.275588</td>\n",
              "      <td>1.617218</td>\n",
              "      <td>1.580279</td>\n",
              "      <td>1.306195</td>\n",
              "      <td>1.351674</td>\n",
              "      <td>1.915517</td>\n",
              "      <td>1.672103</td>\n",
              "      <td>-1.039932</td>\n",
              "      <td>1</td>\n",
              "    </tr>\n",
              "    <tr>\n",
              "      <th>2086</th>\n",
              "      <td>-1.998602</td>\n",
              "      <td>-3.770552</td>\n",
              "      <td>-4.267091</td>\n",
              "      <td>-4.256133</td>\n",
              "      <td>-3.515288</td>\n",
              "      <td>-2.554540</td>\n",
              "      <td>-1.699639</td>\n",
              "      <td>-1.566366</td>\n",
              "      <td>-1.038815</td>\n",
              "      <td>-0.425483</td>\n",
              "      <td>-0.262474</td>\n",
              "      <td>-0.197361</td>\n",
              "      <td>-0.340497</td>\n",
              "      <td>-0.323774</td>\n",
              "      <td>-0.335513</td>\n",
              "      <td>-0.254583</td>\n",
              "      <td>-0.264334</td>\n",
              "      <td>-0.338740</td>\n",
              "      <td>-0.284649</td>\n",
              "      <td>-0.368613</td>\n",
              "      <td>-0.394213</td>\n",
              "      <td>-0.439726</td>\n",
              "      <td>-0.368993</td>\n",
              "      <td>-0.376742</td>\n",
              "      <td>-0.423022</td>\n",
              "      <td>-0.529464</td>\n",
              "      <td>-0.589248</td>\n",
              "      <td>-0.544008</td>\n",
              "      <td>-0.518129</td>\n",
              "      <td>-0.678544</td>\n",
              "      <td>-0.717577</td>\n",
              "      <td>-0.740041</td>\n",
              "      <td>-0.769233</td>\n",
              "      <td>-0.785213</td>\n",
              "      <td>-0.821685</td>\n",
              "      <td>-0.769256</td>\n",
              "      <td>-0.772686</td>\n",
              "      <td>-0.781586</td>\n",
              "      <td>-0.818404</td>\n",
              "      <td>-0.769080</td>\n",
              "      <td>...</td>\n",
              "      <td>1.780951</td>\n",
              "      <td>1.779466</td>\n",
              "      <td>1.754980</td>\n",
              "      <td>1.696125</td>\n",
              "      <td>1.596021</td>\n",
              "      <td>1.385371</td>\n",
              "      <td>1.189426</td>\n",
              "      <td>0.954776</td>\n",
              "      <td>0.739367</td>\n",
              "      <td>0.423573</td>\n",
              "      <td>0.085743</td>\n",
              "      <td>-0.030826</td>\n",
              "      <td>-0.042948</td>\n",
              "      <td>-0.122153</td>\n",
              "      <td>-0.101229</td>\n",
              "      <td>-0.135996</td>\n",
              "      <td>-0.093358</td>\n",
              "      <td>-0.113487</td>\n",
              "      <td>-0.118484</td>\n",
              "      <td>-0.088536</td>\n",
              "      <td>-0.020003</td>\n",
              "      <td>-0.029816</td>\n",
              "      <td>-0.044748</td>\n",
              "      <td>0.034468</td>\n",
              "      <td>0.070666</td>\n",
              "      <td>0.057764</td>\n",
              "      <td>0.120260</td>\n",
              "      <td>0.417549</td>\n",
              "      <td>0.799119</td>\n",
              "      <td>1.028602</td>\n",
              "      <td>1.008577</td>\n",
              "      <td>1.024698</td>\n",
              "      <td>1.051141</td>\n",
              "      <td>1.015352</td>\n",
              "      <td>0.988475</td>\n",
              "      <td>1.050191</td>\n",
              "      <td>1.089509</td>\n",
              "      <td>1.465382</td>\n",
              "      <td>0.799517</td>\n",
              "      <td>1</td>\n",
              "    </tr>\n",
              "    <tr>\n",
              "      <th>2153</th>\n",
              "      <td>-1.187772</td>\n",
              "      <td>-3.365038</td>\n",
              "      <td>-3.695653</td>\n",
              "      <td>-4.094781</td>\n",
              "      <td>-3.992549</td>\n",
              "      <td>-3.425381</td>\n",
              "      <td>-2.057643</td>\n",
              "      <td>-1.277729</td>\n",
              "      <td>-1.307397</td>\n",
              "      <td>-0.623098</td>\n",
              "      <td>-0.320708</td>\n",
              "      <td>-0.359462</td>\n",
              "      <td>-0.377039</td>\n",
              "      <td>-0.397033</td>\n",
              "      <td>-0.381755</td>\n",
              "      <td>-0.427911</td>\n",
              "      <td>-0.414237</td>\n",
              "      <td>-0.448439</td>\n",
              "      <td>-0.437101</td>\n",
              "      <td>-0.362470</td>\n",
              "      <td>-0.357754</td>\n",
              "      <td>-0.360832</td>\n",
              "      <td>-0.456013</td>\n",
              "      <td>-0.426373</td>\n",
              "      <td>-0.477425</td>\n",
              "      <td>-0.551853</td>\n",
              "      <td>-0.491515</td>\n",
              "      <td>-0.540644</td>\n",
              "      <td>-0.626111</td>\n",
              "      <td>-0.672909</td>\n",
              "      <td>-0.609645</td>\n",
              "      <td>-0.674574</td>\n",
              "      <td>-0.738285</td>\n",
              "      <td>-0.711991</td>\n",
              "      <td>-0.707088</td>\n",
              "      <td>-0.719290</td>\n",
              "      <td>-0.665765</td>\n",
              "      <td>-0.681393</td>\n",
              "      <td>-0.551106</td>\n",
              "      <td>-0.678160</td>\n",
              "      <td>...</td>\n",
              "      <td>1.539706</td>\n",
              "      <td>1.861135</td>\n",
              "      <td>1.823973</td>\n",
              "      <td>1.842621</td>\n",
              "      <td>1.807378</td>\n",
              "      <td>1.673375</td>\n",
              "      <td>1.435519</td>\n",
              "      <td>1.256942</td>\n",
              "      <td>1.141169</td>\n",
              "      <td>0.773353</td>\n",
              "      <td>0.352743</td>\n",
              "      <td>-0.006171</td>\n",
              "      <td>-0.082585</td>\n",
              "      <td>-0.174300</td>\n",
              "      <td>-0.050298</td>\n",
              "      <td>-0.190888</td>\n",
              "      <td>-0.151327</td>\n",
              "      <td>-0.106006</td>\n",
              "      <td>-0.101364</td>\n",
              "      <td>-0.116433</td>\n",
              "      <td>-0.127277</td>\n",
              "      <td>0.010743</td>\n",
              "      <td>-0.166507</td>\n",
              "      <td>-0.219952</td>\n",
              "      <td>-0.076155</td>\n",
              "      <td>-0.062330</td>\n",
              "      <td>0.009366</td>\n",
              "      <td>0.151061</td>\n",
              "      <td>0.459543</td>\n",
              "      <td>0.972686</td>\n",
              "      <td>1.085007</td>\n",
              "      <td>1.467196</td>\n",
              "      <td>1.413850</td>\n",
              "      <td>1.283822</td>\n",
              "      <td>0.923126</td>\n",
              "      <td>0.759235</td>\n",
              "      <td>0.932364</td>\n",
              "      <td>1.216265</td>\n",
              "      <td>-0.824489</td>\n",
              "      <td>1</td>\n",
              "    </tr>\n",
              "    <tr>\n",
              "      <th>555</th>\n",
              "      <td>0.604969</td>\n",
              "      <td>-1.671363</td>\n",
              "      <td>-3.236131</td>\n",
              "      <td>-3.966465</td>\n",
              "      <td>-4.067820</td>\n",
              "      <td>-3.551897</td>\n",
              "      <td>-2.582864</td>\n",
              "      <td>-1.804755</td>\n",
              "      <td>-1.688151</td>\n",
              "      <td>-1.025897</td>\n",
              "      <td>-0.434404</td>\n",
              "      <td>-0.391973</td>\n",
              "      <td>-0.488243</td>\n",
              "      <td>-0.431901</td>\n",
              "      <td>-0.389872</td>\n",
              "      <td>-0.552537</td>\n",
              "      <td>-0.522013</td>\n",
              "      <td>-0.412052</td>\n",
              "      <td>-0.435156</td>\n",
              "      <td>-0.485882</td>\n",
              "      <td>-0.495175</td>\n",
              "      <td>-0.472248</td>\n",
              "      <td>-0.491598</td>\n",
              "      <td>-0.542585</td>\n",
              "      <td>-0.495330</td>\n",
              "      <td>-0.514791</td>\n",
              "      <td>-0.556296</td>\n",
              "      <td>-0.654450</td>\n",
              "      <td>-0.652184</td>\n",
              "      <td>-0.705807</td>\n",
              "      <td>-0.764955</td>\n",
              "      <td>-0.806090</td>\n",
              "      <td>-0.826952</td>\n",
              "      <td>-0.834084</td>\n",
              "      <td>-0.824845</td>\n",
              "      <td>-0.894700</td>\n",
              "      <td>-0.855387</td>\n",
              "      <td>-0.843114</td>\n",
              "      <td>-0.803555</td>\n",
              "      <td>-0.649946</td>\n",
              "      <td>...</td>\n",
              "      <td>1.512614</td>\n",
              "      <td>1.786149</td>\n",
              "      <td>1.961367</td>\n",
              "      <td>1.853974</td>\n",
              "      <td>1.825461</td>\n",
              "      <td>1.679417</td>\n",
              "      <td>1.585913</td>\n",
              "      <td>1.286001</td>\n",
              "      <td>0.959101</td>\n",
              "      <td>0.604489</td>\n",
              "      <td>0.249181</td>\n",
              "      <td>-0.116396</td>\n",
              "      <td>-0.230415</td>\n",
              "      <td>-0.126991</td>\n",
              "      <td>-0.234535</td>\n",
              "      <td>-0.239417</td>\n",
              "      <td>-0.302889</td>\n",
              "      <td>-0.274648</td>\n",
              "      <td>-0.246930</td>\n",
              "      <td>-0.268511</td>\n",
              "      <td>-0.229978</td>\n",
              "      <td>-0.315147</td>\n",
              "      <td>-0.246615</td>\n",
              "      <td>-0.240423</td>\n",
              "      <td>-0.301044</td>\n",
              "      <td>-0.210698</td>\n",
              "      <td>-0.253991</td>\n",
              "      <td>-0.040373</td>\n",
              "      <td>0.105965</td>\n",
              "      <td>0.509497</td>\n",
              "      <td>0.545222</td>\n",
              "      <td>0.649363</td>\n",
              "      <td>0.986846</td>\n",
              "      <td>1.234495</td>\n",
              "      <td>1.280039</td>\n",
              "      <td>1.215985</td>\n",
              "      <td>1.617971</td>\n",
              "      <td>2.196543</td>\n",
              "      <td>0.023843</td>\n",
              "      <td>1</td>\n",
              "    </tr>\n",
              "    <tr>\n",
              "      <th>205</th>\n",
              "      <td>-1.197203</td>\n",
              "      <td>-3.270123</td>\n",
              "      <td>-3.778723</td>\n",
              "      <td>-3.977574</td>\n",
              "      <td>-3.405060</td>\n",
              "      <td>-2.392634</td>\n",
              "      <td>-1.726322</td>\n",
              "      <td>-1.572748</td>\n",
              "      <td>-0.920075</td>\n",
              "      <td>-0.388731</td>\n",
              "      <td>-0.329621</td>\n",
              "      <td>-0.432457</td>\n",
              "      <td>-0.412543</td>\n",
              "      <td>-0.394814</td>\n",
              "      <td>-0.437069</td>\n",
              "      <td>-0.363390</td>\n",
              "      <td>-0.399006</td>\n",
              "      <td>-0.403825</td>\n",
              "      <td>-0.376376</td>\n",
              "      <td>-0.506637</td>\n",
              "      <td>-0.436540</td>\n",
              "      <td>-0.465944</td>\n",
              "      <td>-0.429178</td>\n",
              "      <td>-0.519840</td>\n",
              "      <td>-0.568588</td>\n",
              "      <td>-0.537508</td>\n",
              "      <td>-0.679455</td>\n",
              "      <td>-0.720026</td>\n",
              "      <td>-0.745055</td>\n",
              "      <td>-0.681840</td>\n",
              "      <td>-0.811463</td>\n",
              "      <td>-0.896847</td>\n",
              "      <td>-0.866956</td>\n",
              "      <td>-0.955809</td>\n",
              "      <td>-0.950285</td>\n",
              "      <td>-1.025476</td>\n",
              "      <td>-0.973120</td>\n",
              "      <td>-0.979592</td>\n",
              "      <td>-1.022956</td>\n",
              "      <td>-1.054214</td>\n",
              "      <td>...</td>\n",
              "      <td>1.208148</td>\n",
              "      <td>1.359570</td>\n",
              "      <td>1.640742</td>\n",
              "      <td>1.725211</td>\n",
              "      <td>1.740897</td>\n",
              "      <td>1.732714</td>\n",
              "      <td>1.447176</td>\n",
              "      <td>1.348474</td>\n",
              "      <td>1.147636</td>\n",
              "      <td>0.873845</td>\n",
              "      <td>0.702633</td>\n",
              "      <td>0.450193</td>\n",
              "      <td>0.181169</td>\n",
              "      <td>-0.140092</td>\n",
              "      <td>-0.106002</td>\n",
              "      <td>-0.067038</td>\n",
              "      <td>-0.093409</td>\n",
              "      <td>-0.032675</td>\n",
              "      <td>-0.085898</td>\n",
              "      <td>-0.133999</td>\n",
              "      <td>-0.194673</td>\n",
              "      <td>-0.116901</td>\n",
              "      <td>-0.007323</td>\n",
              "      <td>-0.079279</td>\n",
              "      <td>-0.171791</td>\n",
              "      <td>-0.077551</td>\n",
              "      <td>-0.024034</td>\n",
              "      <td>-0.017010</td>\n",
              "      <td>0.068237</td>\n",
              "      <td>0.299639</td>\n",
              "      <td>0.828168</td>\n",
              "      <td>0.914338</td>\n",
              "      <td>1.063077</td>\n",
              "      <td>1.393479</td>\n",
              "      <td>1.469756</td>\n",
              "      <td>1.392281</td>\n",
              "      <td>1.144732</td>\n",
              "      <td>1.668263</td>\n",
              "      <td>1.734676</td>\n",
              "      <td>1</td>\n",
              "    </tr>\n",
              "  </tbody>\n",
              "</table>\n",
              "<p>5 rows × 141 columns</p>\n",
              "</div>"
            ],
            "text/plain": [
              "      att1@NUMERIC  att2@NUMERIC  ...  att140@NUMERIC  target@{1,2,3,4,5}\n",
              "1001      1.469756     -1.048520  ...       -1.039932                   1\n",
              "2086     -1.998602     -3.770552  ...        0.799517                   1\n",
              "2153     -1.187772     -3.365038  ...       -0.824489                   1\n",
              "555       0.604969     -1.671363  ...        0.023843                   1\n",
              "205      -1.197203     -3.270123  ...        1.734676                   1\n",
              "\n",
              "[5 rows x 141 columns]"
            ]
          },
          "metadata": {
            "tags": []
          },
          "execution_count": 12
        }
      ]
    },
    {
      "cell_type": "markdown",
      "metadata": {
        "id": "K_f7F-ipCZNH"
      },
      "source": [
        "We have 5,000 examples. Each row represents a single heartbeat record. Let's name the possible classes:"
      ]
    },
    {
      "cell_type": "code",
      "metadata": {
        "id": "9fcKHB5rcDcm"
      },
      "source": [
        "CLASS_NORMAL = 1\n",
        "\n",
        "class_names = ['Normal','R on T','PVC','SP','UB']"
      ],
      "execution_count": 13,
      "outputs": []
    },
    {
      "cell_type": "markdown",
      "metadata": {
        "id": "TFWOyTF3CpgT"
      },
      "source": [
        "Next, we'll rename the last column to `target`, so its easier to reference it:"
      ]
    },
    {
      "cell_type": "code",
      "metadata": {
        "id": "6bfjzgJ7YEww"
      },
      "source": [
        "new_columns = list(df.columns)\n",
        "new_columns[-1] = 'target'\n",
        "df.columns = new_columns"
      ],
      "execution_count": 14,
      "outputs": []
    },
    {
      "cell_type": "markdown",
      "metadata": {
        "id": "nlf5aVLnjRCz"
      },
      "source": [
        "## Exploratory Data Analysis\n",
        "\n",
        "Let's check how many examples for each heartbeat class do we have:"
      ]
    },
    {
      "cell_type": "code",
      "metadata": {
        "id": "QBxuqD1cdd2y",
        "outputId": "ee6ead4d-1e94-4b20-e8de-948688991dde",
        "colab": {
          "base_uri": "https://localhost:8080/"
        }
      },
      "source": [
        "df.target.value_counts()"
      ],
      "execution_count": 15,
      "outputs": [
        {
          "output_type": "execute_result",
          "data": {
            "text/plain": [
              "1    2919\n",
              "2    1767\n",
              "4     194\n",
              "3      96\n",
              "5      24\n",
              "Name: target, dtype: int64"
            ]
          },
          "metadata": {
            "tags": []
          },
          "execution_count": 15
        }
      ]
    },
    {
      "cell_type": "markdown",
      "metadata": {
        "id": "2EZVZYCsQKXV"
      },
      "source": [
        "Let's plot the results:"
      ]
    },
    {
      "cell_type": "code",
      "metadata": {
        "id": "wn4s427Sf4eb",
        "outputId": "946efc44-6f13-4c4b-fed3-7d9e5623c8bd",
        "colab": {
          "base_uri": "https://localhost:8080/",
          "height": 560
        }
      },
      "source": [
        "ax = sns.countplot(df.target)\n",
        "ax.set_xticklabels(class_names);"
      ],
      "execution_count": 16,
      "outputs": [
        {
          "output_type": "stream",
          "text": [
            "/usr/local/lib/python3.6/dist-packages/seaborn/_decorators.py:43: FutureWarning: Pass the following variable as a keyword arg: x. From version 0.12, the only valid positional argument will be `data`, and passing other arguments without an explicit keyword will result in an error or misinterpretation.\n",
            "  FutureWarning\n"
          ],
          "name": "stderr"
        },
        {
          "output_type": "display_data",
          "data": {
            "image/png": "[encoded data removed]",
            "text/plain": [
              "<Figure size 864x576 with 1 Axes>"
            ]
          },
          "metadata": {
            "tags": [],
            "image/png": {
              "width": 745,
              "height": 489
            }
          }
        }
      ]
    },
    {
      "cell_type": "markdown",
      "metadata": {
        "id": "e2m55fTyRNIf"
      },
      "source": [
        "The normal class, has by far, the most examples. This is great because we'll use it to train our model.\n",
        "\n",
        "Let's have a look at an averaged (smoothed out with one standard deviation on top and bottom of it) Time Series for each class:"
      ]
    },
    {
      "cell_type": "code",
      "metadata": {
        "id": "UVvG0vhiU-ju"
      },
      "source": [
        "def plot_time_series_class(data, class_name, ax, n_steps=10):\n",
        "  time_series_df = pd.DataFrame(data)\n",
        "\n",
        "  smooth_path = time_series_df.rolling(n_steps).mean()\n",
        "  path_deviation = 2 * time_series_df.rolling(n_steps).std()\n",
        "\n",
        "  under_line = (smooth_path - path_deviation)[0]\n",
        "  over_line = (smooth_path + path_deviation)[0]\n",
        "\n",
        "  ax.plot(smooth_path, linewidth=2)\n",
        "  ax.fill_between(\n",
        "    path_deviation.index,\n",
        "    under_line,\n",
        "    over_line,\n",
        "    alpha=.125\n",
        "  )\n",
        "  ax.set_title(class_name)"
      ],
      "execution_count": 17,
      "outputs": []
    },
    {
      "cell_type": "code",
      "metadata": {
        "id": "xHaslHZ8JMSk",
        "outputId": "5ff1ed73-1810-405b-d54b-1f40877f858a",
        "colab": {
          "base_uri": "https://localhost:8080/",
          "height": 576
        }
      },
      "source": [
        "classes = df.target.unique()\n",
        "\n",
        "fig, axs = plt.subplots(\n",
        "  nrows=len(classes) // 3 + 1,\n",
        "  ncols=3,\n",
        "  sharey=True,\n",
        "  figsize=(14, 8)\n",
        ")\n",
        "\n",
        "for i, cls in enumerate(classes):\n",
        "  ax = axs.flat[i]\n",
        "  data = df[df.target == cls] \\\n",
        "    .drop(labels='target', axis=1) \\\n",
        "    .mean(axis=0) \\\n",
        "    .to_numpy()\n",
        "  plot_time_series_class(data, class_names[i], ax)\n",
        "\n",
        "fig.delaxes(axs.flat[-1])\n",
        "fig.tight_layout();"
      ],
      "execution_count": 18,
      "outputs": [
        {
          "output_type": "display_data",
          "data": {
            "image/png": "[encoded data removed]",
            "text/plain": [
              "<Figure size 1008x576 with 5 Axes>"
            ]
          },
          "metadata": {
            "tags": [],
            "image/png": {
              "width": 991,
              "height": 559
            }
          }
        }
      ]
    },
    {
      "cell_type": "markdown",
      "metadata": {
        "id": "jDt33QoDTUIb"
      },
      "source": [
        "It is very good that the normal class has a distinctly different pattern than all other classes. Maybe our model will be able to detect anomalies?"
      ]
    },
    {
      "cell_type": "markdown",
      "metadata": {
        "id": "gJRQl1p0Q57K"
      },
      "source": [
        "## LSTM Autoencoder\n",
        "\n",
        "The [Autoencoder's](https://en.wikipedia.org/wiki/Autoencoder) job is to get some input data, pass it through the model, and obtain a reconstruction of the input. The reconstruction should match the input as much as possible. The trick is to use a small number of parameters, so your model learns a compressed representation of the data.\n",
        "\n",
        "In a sense, Autoencoders try to learn only the most important features (compressed version) of the data. Here, we'll have a look at how to feed Time Series data to an Autoencoder. We'll use a couple of LSTM layers (hence the LSTM Autoencoder) to capture the temporal dependencies of the data.\n",
        "\n",
        "To classify a sequence as normal or an anomaly, we'll pick a threshold above which a heartbeat is considered abnormal.\n",
        "\n",
        "### Reconstruction Loss\n",
        "\n",
        "When training an Autoencoder, the objective is to reconstruct the input as best as possible. This is done by minimizing a loss function (just like in supervised learning). This function is known as *reconstruction loss*. Cross-entropy loss and Mean squared error are common examples."
      ]
    },
    {
      "cell_type": "markdown",
      "metadata": {
        "id": "eFZ3o2F8eUaW"
      },
      "source": [
        "## Anomaly Detection in ECG Data\n",
        "\n",
        "We'll use normal heartbeats as training data for our model and record the *reconstruction loss*. But first, we need to prepare the data:"
      ]
    },
    {
      "cell_type": "markdown",
      "metadata": {
        "id": "QGKKj6fgUV_a"
      },
      "source": [
        "### Data Preprocessing\n",
        "\n",
        "Let's get all normal heartbeats and drop the target (class) column:"
      ]
    },
    {
      "cell_type": "code",
      "metadata": {
        "id": "NA0k8mTijyh-",
        "outputId": "a8855dab-2afb-41aa-984e-d2d8671ef8ff",
        "colab": {
          "base_uri": "https://localhost:8080/"
        }
      },
      "source": [
        "normal_df = df[df.target == str(CLASS_NORMAL)].drop(labels='target', axis=1)\n",
        "normal_df.shape"
      ],
      "execution_count": 19,
      "outputs": [
        {
          "output_type": "execute_result",
          "data": {
            "text/plain": [
              "(2919, 140)"
            ]
          },
          "metadata": {
            "tags": []
          },
          "execution_count": 19
        }
      ]
    },
    {
      "cell_type": "markdown",
      "metadata": {
        "id": "PRCZ7uviaI1Y"
      },
      "source": [
        "We'll merge all other classes and mark them as anomalies:"
      ]
    },
    {
      "cell_type": "code",
      "metadata": {
        "id": "xpdXIaDJstD3",
        "outputId": "97bf84ed-d794-4697-e6d3-d4adbe6ea9c3",
        "colab": {
          "base_uri": "https://localhost:8080/"
        }
      },
      "source": [
        "anomaly_df = df[df.target != str(CLASS_NORMAL)].drop(labels='target', axis=1)\n",
        "anomaly_df.shape"
      ],
      "execution_count": 20,
      "outputs": [
        {
          "output_type": "execute_result",
          "data": {
            "text/plain": [
              "(2081, 140)"
            ]
          },
          "metadata": {
            "tags": []
          },
          "execution_count": 20
        }
      ]
    },
    {
      "cell_type": "markdown",
      "metadata": {
        "id": "ILcJJwpda15z"
      },
      "source": [
        "We'll split the normal examples into train, validation and test sets:"
      ]
    },
    {
      "cell_type": "code",
      "metadata": {
        "id": "n7kJ7C3IFWIV"
      },
      "source": [
        "train_df, val_df = train_test_split(\n",
        "  normal_df,\n",
        "  test_size=0.15,\n",
        "  random_state=RANDOM_SEED\n",
        ")\n",
        "\n",
        "val_df, test_df = train_test_split(\n",
        "  val_df,\n",
        "  test_size=0.33, \n",
        "  random_state=RANDOM_SEED\n",
        ")"
      ],
      "execution_count": 21,
      "outputs": []
    },
    {
      "cell_type": "markdown",
      "metadata": {
        "id": "nWasRQ1dcAp4"
      },
      "source": [
        "We need to convert our examples into tensors, so we can use them to train our Autoencoder. Let's write a helper function for that:"
      ]
    },
    {
      "cell_type": "code",
      "metadata": {
        "id": "h2kKiIIeBwKb"
      },
      "source": [
        "def create_dataset(df):\n",
        "\n",
        "  sequences = df.astype(np.float32).to_numpy().tolist()\n",
        "\n",
        "  dataset = [torch.tensor(s).unsqueeze(1).float() for s in sequences]\n",
        "\n",
        "  n_seq, seq_len, n_features = torch.stack(dataset).shape\n",
        "\n",
        "  return dataset, seq_len, n_features"
      ],
      "execution_count": 22,
      "outputs": []
    },
    {
      "cell_type": "markdown",
      "metadata": {
        "id": "WT4BekX2g4L_"
      },
      "source": [
        "Each Time Series will be converted to a 2D Tensor in the shape *sequence length* x *number of features* (140x1 in our case).\n",
        "\n",
        "Let's create some datasets:"
      ]
    },
    {
      "cell_type": "code",
      "metadata": {
        "id": "Rb1UeUwbjmMD"
      },
      "source": [
        "train_dataset, seq_len, n_features = create_dataset(train_df)\n",
        "val_dataset, _, _ = create_dataset(val_df)\n",
        "test_normal_dataset, _, _ = create_dataset(test_df)\n",
        "test_anomaly_dataset, _, _ = create_dataset(anomaly_df)"
      ],
      "execution_count": 23,
      "outputs": []
    },
    {
      "cell_type": "markdown",
      "metadata": {
        "id": "gLe1hXvRUSnA"
      },
      "source": [
        "### LSTM Autoencoder\n",
        "\n",
        "![Autoencoder](https://lilianweng.github.io/lil-log/assets/images/autoencoder-architecture.png)\n",
        "*Sample Autoencoder Architecture [Image Source](https://lilianweng.github.io/lil-log/2018/08/12/from-autoencoder-to-beta-vae.html)*"
      ]
    },
    {
      "cell_type": "markdown",
      "metadata": {
        "id": "SgZpEEzfqxNp"
      },
      "source": [
        "The general Autoencoder architecture consists of two components. An *Encoder* that compresses the input and a *Decoder* that tries to reconstruct it.\n",
        "\n",
        "We'll use the LSTM Autoencoder from this [GitHub repo](https://github.com/shobrook/sequitur) with some small tweaks. Our model's job is to reconstruct Time Series data. Let's start with the *Encoder*:"
      ]
    },
    {
      "cell_type": "code",
      "metadata": {
        "id": "X_f1WaTJhiXy"
      },
      "source": [
        "class Encoder(nn.Module):\n",
        "\n",
        "  def __init__(self, seq_len, n_features, embedding_dim=64):\n",
        "    super(Encoder, self).__init__()\n",
        "\n",
        "    self.seq_len, self.n_features = seq_len, n_features\n",
        "    self.embedding_dim, self.hidden_dim = embedding_dim, 2 * embedding_dim\n",
        "\n",
        "    self.rnn1 = nn.LSTM(\n",
        "      input_size=n_features,\n",
        "      hidden_size=self.hidden_dim,\n",
        "      num_layers=1,\n",
        "      batch_first=True\n",
        "    )\n",
        "    \n",
        "    self.rnn2 = nn.LSTM(\n",
        "      input_size=self.hidden_dim,\n",
        "      hidden_size=embedding_dim,\n",
        "      num_layers=1,\n",
        "      batch_first=True\n",
        "    )\n",
        "\n",
        "  def forward(self, x):\n",
        "    x = x.reshape((1, self.seq_len, self.n_features))\n",
        "\n",
        "    x, (_, _) = self.rnn1(x)\n",
        "    x, (hidden_n, _) = self.rnn2(x)\n",
        "\n",
        "    return hidden_n.reshape((self.n_features, self.embedding_dim))"
      ],
      "execution_count": 24,
      "outputs": []
    },
    {
      "cell_type": "markdown",
      "metadata": {
        "id": "DysklqYmxTib"
      },
      "source": [
        "The *Encoder* uses two LSTM layers to compress the Time Series data input.\n",
        "\n",
        "Next, we'll decode the compressed representation using a *Decoder*:"
      ]
    },
    {
      "cell_type": "code",
      "metadata": {
        "id": "AdEft7l3hk6S"
      },
      "source": [
        "class Decoder(nn.Module):\n",
        "\n",
        "  def __init__(self, seq_len, input_dim=64, n_features=1):\n",
        "    super(Decoder, self).__init__()\n",
        "\n",
        "    self.seq_len, self.input_dim = seq_len, input_dim\n",
        "    self.hidden_dim, self.n_features = 2 * input_dim, n_features\n",
        "\n",
        "    self.rnn1 = nn.LSTM(\n",
        "      input_size=input_dim,\n",
        "      hidden_size=input_dim,\n",
        "      num_layers=1,\n",
        "      batch_first=True\n",
        "    )\n",
        "\n",
        "    self.rnn2 = nn.LSTM(\n",
        "      input_size=input_dim,\n",
        "      hidden_size=self.hidden_dim,\n",
        "      num_layers=1,\n",
        "      batch_first=True\n",
        "    )\n",
        "\n",
        "    self.output_layer = nn.Linear(self.hidden_dim, n_features)\n",
        "\n",
        "  def forward(self, x):\n",
        "    x = x.repeat(self.seq_len, self.n_features)\n",
        "    x = x.reshape((self.n_features, self.seq_len, self.input_dim))\n",
        "\n",
        "    x, (hidden_n, cell_n) = self.rnn1(x)\n",
        "    x, (hidden_n, cell_n) = self.rnn2(x)\n",
        "    x = x.reshape((self.seq_len, self.hidden_dim))\n",
        "\n",
        "    return self.output_layer(x)"
      ],
      "execution_count": 25,
      "outputs": []
    },
    {
      "cell_type": "markdown",
      "metadata": {
        "id": "WUMb2NGZyTmi"
      },
      "source": [
        "Our Decoder contains two LSTM layers and an output layer that gives the final reconstruction.\n",
        "\n",
        "Time to wrap everything into an easy to use module:"
      ]
    },
    {
      "cell_type": "code",
      "metadata": {
        "id": "vgUChGd_A-Bv"
      },
      "source": [
        "class RecurrentAutoencoder(nn.Module):\n",
        "\n",
        "  def __init__(self, seq_len, n_features, embedding_dim=64):\n",
        "    super(RecurrentAutoencoder, self).__init__()\n",
        "\n",
        "    self.encoder = Encoder(seq_len, n_features, embedding_dim).to(device)\n",
        "    self.decoder = Decoder(seq_len, embedding_dim, n_features).to(device)\n",
        "\n",
        "  def forward(self, x):\n",
        "    x = self.encoder(x)\n",
        "    x = self.decoder(x)\n",
        "\n",
        "    return x"
      ],
      "execution_count": 26,
      "outputs": []
    },
    {
      "cell_type": "markdown",
      "metadata": {
        "id": "zT6Cwq78sOrI"
      },
      "source": [
        "Our Autoencoder passes the input through the Encoder and Decoder. Let's create an instance of it:"
      ]
    },
    {
      "cell_type": "code",
      "metadata": {
        "id": "Mo0rvFqRBgnu"
      },
      "source": [
        "model = RecurrentAutoencoder(seq_len, n_features, 128)\n",
        "model = model.to(device)"
      ],
      "execution_count": 27,
      "outputs": []
    },
    {
      "cell_type": "markdown",
      "metadata": {
        "id": "n1ENnubQdnJN"
      },
      "source": [
        "## Training\n",
        "\n",
        "Let's write a helper function for our training process:"
      ]
    },
    {
      "cell_type": "code",
      "metadata": {
        "id": "ryEmRvl9DfEj"
      },
      "source": [
        "def train_model(model, train_dataset, val_dataset, n_epochs):\n",
        "  optimizer = torch.optim.Adam(model.parameters(), lr=1e-3)\n",
        "  criterion = nn.L1Loss(reduction='sum').to(device)\n",
        "  history = dict(train=[], val=[])\n",
        "\n",
        "  best_model_wts = copy.deepcopy(model.state_dict())\n",
        "  best_loss = 10000.0\n",
        "  \n",
        "  for epoch in range(1, n_epochs + 1):\n",
        "    model = model.train()\n",
        "\n",
        "    train_losses = []\n",
        "    for seq_true in train_dataset:\n",
        "      optimizer.zero_grad()\n",
        "\n",
        "      seq_true = seq_true.to(device)\n",
        "      seq_pred = model(seq_true)\n",
        "\n",
        "      loss = criterion(seq_pred, seq_true)\n",
        "\n",
        "      loss.backward()\n",
        "      optimizer.step()\n",
        "\n",
        "      train_losses.append(loss.item())\n",
        "\n",
        "    val_losses = []\n",
        "    model = model.eval()\n",
        "    with torch.no_grad():\n",
        "      for seq_true in val_dataset:\n",
        "\n",
        "        seq_true = seq_true.to(device)\n",
        "        seq_pred = model(seq_true)\n",
        "\n",
        "        loss = criterion(seq_pred, seq_true)\n",
        "        val_losses.append(loss.item())\n",
        "\n",
        "    train_loss = np.mean(train_losses)\n",
        "    val_loss = np.mean(val_losses)\n",
        "\n",
        "    history['train'].append(train_loss)\n",
        "    history['val'].append(val_loss)\n",
        "\n",
        "    if val_loss < best_loss:\n",
        "      best_loss = val_loss\n",
        "      best_model_wts = copy.deepcopy(model.state_dict())\n",
        "\n",
        "    print(f'Epoch {epoch}: train loss {train_loss} val loss {val_loss}')\n",
        "\n",
        "  model.load_state_dict(best_model_wts)\n",
        "  return model.eval(), history"
      ],
      "execution_count": 28,
      "outputs": []
    },
    {
      "cell_type": "markdown",
      "metadata": {
        "id": "7iWQrzV1ASpW"
      },
      "source": [
        "At each epoch, the training process feeds our model with all training examples and evaluates the performance on the validation set. Note that we're using a batch size of 1 (our model sees only 1 sequence at a time). We also record the training and validation set losses during the process.\n",
        "\n",
        "Note that we're minimizing the [L1Loss](https://pytorch.org/docs/stable/nn.html#l1loss), which measures the MAE (mean absolute error). Why? The reconstructions seem to be better than with MSE (mean squared error).\n",
        "\n",
        "We'll get the version of the model with the smallest validation error. Let's do some training:"
      ]
    },
    {
      "cell_type": "code",
      "metadata": {
        "id": "saamYyUsHdw0",
        "outputId": "72656e4f-ad8c-43e7-aadd-d67b170d565b",
        "colab": {
          "base_uri": "https://localhost:8080/"
        }
      },
      "source": [
        "model, history = train_model(\n",
        "  model, \n",
        "  train_dataset, \n",
        "  val_dataset, \n",
        "  n_epochs=150\n",
        ")"
      ],
      "execution_count": null,
      "outputs": [
        {
          "output_type": "stream",
          "text": [
            "Epoch 1: train loss 63.00967953061923 val loss 55.66241943307297\n",
            "Epoch 2: train loss 55.51971706696356 val loss 54.946675674907176\n",
            "Epoch 3: train loss 52.694821464203386 val loss 50.45450744368517\n",
            "Epoch 4: train loss 50.39900418627123 val loss 47.50052137667815\n",
            "Epoch 5: train loss 45.22913283794362 val loss 43.241766535788265\n",
            "Epoch 6: train loss 42.61602501252254 val loss 42.11839718867488\n",
            "Epoch 7: train loss 36.15009617718993 val loss 42.339146409018454\n",
            "Epoch 8: train loss 34.11259370309506 val loss 36.03970184586561\n",
            "Epoch 9: train loss 32.41157245443791 val loss 34.836000989321555\n",
            "Epoch 10: train loss 31.683672101975255 val loss 34.5091645302626\n",
            "Epoch 11: train loss 30.4601983543559 val loss 30.611883739562572\n",
            "Epoch 12: train loss 29.28854963924557 val loss 31.533267382468786\n"
          ],
          "name": "stdout"
        }
      ]
    },
    {
      "cell_type": "code",
      "metadata": {
        "id": "uztvlmNkQSUE"
      },
      "source": [
        "ax = plt.figure().gca()\n",
        "\n",
        "ax.plot(history['train'])\n",
        "ax.plot(history['val'])\n",
        "plt.ylabel('Loss')\n",
        "plt.xlabel('Epoch')\n",
        "plt.legend(['train', 'test'])\n",
        "plt.title('Loss over training epochs')\n",
        "plt.show();"
      ],
      "execution_count": null,
      "outputs": []
    },
    {
      "cell_type": "markdown",
      "metadata": {
        "id": "X2IGZFBEVJjq"
      },
      "source": [
        "Our model converged quite well. Seems like we might've needed a larger validation set to smoothen the results, but that'll do for now."
      ]
    },
    {
      "cell_type": "markdown",
      "metadata": {
        "id": "pmoaNSERn09J"
      },
      "source": [
        "## Saving the model\n",
        "\n",
        "Let's store the model for later use:"
      ]
    },
    {
      "cell_type": "code",
      "metadata": {
        "id": "tLC_ClIpnv9H"
      },
      "source": [
        "MODEL_PATH = 'model.pth'\n",
        "\n",
        "torch.save(model, MODEL_PATH)"
      ],
      "execution_count": null,
      "outputs": []
    },
    {
      "cell_type": "markdown",
      "metadata": {
        "id": "E6q7H7-ea-Lb"
      },
      "source": [
        "Uncomment the next lines, if you want to download and load the pre-trained model:"
      ]
    },
    {
      "cell_type": "code",
      "metadata": {
        "id": "e4Hxo-Xftiej"
      },
      "source": [
        "# !gdown --id 1jEYx5wGsb7Ix8cZAw3l5p5pOwHs3_I9A\n",
        "# model = torch.load('model.pth')\n",
        "# model = model.to(device)"
      ],
      "execution_count": null,
      "outputs": []
    },
    {
      "cell_type": "markdown",
      "metadata": {
        "id": "EwLujPFXT054"
      },
      "source": [
        "## Choosing a threshold\n",
        "\n",
        "With our model at hand, we can have a look at the reconstruction error on the training set. Let's start by writing a helper function to get predictions from our model:"
      ]
    },
    {
      "cell_type": "code",
      "metadata": {
        "id": "AAhYZy9bRNLM"
      },
      "source": [
        "def predict(model, dataset):\n",
        "  predictions, losses = [], []\n",
        "  criterion = nn.L1Loss(reduction='sum').to(device)\n",
        "  with torch.no_grad():\n",
        "    model = model.eval()\n",
        "    for seq_true in dataset:\n",
        "      seq_true = seq_true.to(device)\n",
        "      seq_pred = model(seq_true)\n",
        "\n",
        "      loss = criterion(seq_pred, seq_true)\n",
        "\n",
        "      predictions.append(seq_pred.cpu().numpy().flatten())\n",
        "      losses.append(loss.item())\n",
        "  return predictions, losses"
      ],
      "execution_count": null,
      "outputs": []
    },
    {
      "cell_type": "markdown",
      "metadata": {
        "id": "wVnNtIreDXf5"
      },
      "source": [
        "Our function goes through each example in the dataset and records the predictions and losses. Let's get the losses and have a look at them:"
      ]
    },
    {
      "cell_type": "code",
      "metadata": {
        "id": "pvn141SDS33P"
      },
      "source": [
        "_, losses = predict(model, train_dataset)\n",
        "\n",
        "sns.distplot(losses, bins=50, kde=True);"
      ],
      "execution_count": null,
      "outputs": []
    },
    {
      "cell_type": "code",
      "metadata": {
        "id": "MjSCtDZ8_xGB"
      },
      "source": [
        "THRESHOLD = 26"
      ],
      "execution_count": null,
      "outputs": []
    },
    {
      "cell_type": "markdown",
      "metadata": {
        "id": "mw2dm631T4a5"
      },
      "source": [
        "## Evaluation\n",
        "\n",
        "Using the threshold, we can turn the problem into a simple binary classification task:\n",
        "\n",
        "- If the reconstruction loss for an example is below the threshold, we'll classify it as a *normal* heartbeat\n",
        "- Alternatively, if the loss is higher than the threshold, we'll classify it as an anomaly"
      ]
    },
    {
      "cell_type": "markdown",
      "metadata": {
        "id": "k94t9U3X7uVA"
      },
      "source": [
        "### Normal hearbeats\n",
        "\n",
        "Let's check how well our model does on normal heartbeats. We'll use the normal heartbeats from the test set (our model haven't seen those):"
      ]
    },
    {
      "cell_type": "code",
      "metadata": {
        "id": "-z630B5v7Fid"
      },
      "source": [
        "predictions, pred_losses = predict(model, test_normal_dataset)\n",
        "sns.distplot(pred_losses, bins=50, kde=True);"
      ],
      "execution_count": null,
      "outputs": []
    },
    {
      "cell_type": "markdown",
      "metadata": {
        "id": "xCmzETkkLLvh"
      },
      "source": [
        "We'll count the correct predictions:"
      ]
    },
    {
      "cell_type": "code",
      "metadata": {
        "id": "BR-hcvUP7OBt"
      },
      "source": [
        "correct = sum(l <= THRESHOLD for l in pred_losses)\n",
        "print(f'Correct normal predictions: {correct}/{len(test_normal_dataset)}')"
      ],
      "execution_count": null,
      "outputs": []
    },
    {
      "cell_type": "markdown",
      "metadata": {
        "id": "hYbH8iEz7wmh"
      },
      "source": [
        "### Anomalies"
      ]
    },
    {
      "cell_type": "markdown",
      "metadata": {
        "id": "hidyhcu6zC8-"
      },
      "source": [
        "We'll do the same with the anomaly examples, but their number is much higher. We'll get a subset that has the same size as the normal heartbeats:"
      ]
    },
    {
      "cell_type": "code",
      "metadata": {
        "id": "WJcg5DXWyiep"
      },
      "source": [
        "anomaly_dataset = test_anomaly_dataset[:len(test_normal_dataset)]"
      ],
      "execution_count": null,
      "outputs": []
    },
    {
      "cell_type": "markdown",
      "metadata": {
        "id": "gcBoplGU0hR8"
      },
      "source": [
        "Now we can take the predictions of our model for the subset of anomalies:"
      ]
    },
    {
      "cell_type": "code",
      "metadata": {
        "id": "tLCuS8oL7hG2"
      },
      "source": [
        "predictions, pred_losses = predict(model, anomaly_dataset)\n",
        "sns.distplot(pred_losses, bins=50, kde=True);"
      ],
      "execution_count": null,
      "outputs": []
    },
    {
      "cell_type": "markdown",
      "metadata": {
        "id": "EkgGXs4E06so"
      },
      "source": [
        "Finally, we can count the number of examples above the threshold (considered as anomalies):"
      ]
    },
    {
      "cell_type": "code",
      "metadata": {
        "id": "_NEUmDoM8M6q"
      },
      "source": [
        "correct = sum(l > THRESHOLD for l in pred_losses)\n",
        "print(f'Correct anomaly predictions: {correct}/{len(anomaly_dataset)}')"
      ],
      "execution_count": null,
      "outputs": []
    },
    {
      "cell_type": "markdown",
      "metadata": {
        "id": "v0PfwvTZ23_s"
      },
      "source": [
        "We have very good results. In the real world, you can tweak the threshold depending on what kind of errors you want to tolerate. In this case, you might want to have more false positives (normal heartbeats considered as anomalies) than false negatives (anomalies considered as normal)."
      ]
    },
    {
      "cell_type": "markdown",
      "metadata": {
        "id": "KrW0seHZ72Mu"
      },
      "source": [
        "#### Looking at Examples\n",
        "\n",
        "We can overlay the real and reconstructed Time Series values to see how close they are. We'll do it for some normal and anomaly cases:"
      ]
    },
    {
      "cell_type": "code",
      "metadata": {
        "id": "gBRWRk6WWdNC"
      },
      "source": [
        "def plot_prediction(data, model, title, ax):\n",
        "  predictions, pred_losses = predict(model, [data])\n",
        "\n",
        "  ax.plot(data, label='true')\n",
        "  ax.plot(predictions[0], label='reconstructed')\n",
        "  ax.set_title(f'{title} (loss: {np.around(pred_losses[0], 2)})')\n",
        "  ax.legend()"
      ],
      "execution_count": null,
      "outputs": []
    },
    {
      "cell_type": "code",
      "metadata": {
        "id": "ZnN1K63BYomX"
      },
      "source": [
        "fig, axs = plt.subplots(\n",
        "  nrows=2,\n",
        "  ncols=6,\n",
        "  sharey=True,\n",
        "  sharex=True,\n",
        "  figsize=(22, 8)\n",
        ")\n",
        "\n",
        "for i, data in enumerate(test_normal_dataset[:6]):\n",
        "  plot_prediction(data, model, title='Normal', ax=axs[0, i])\n",
        "\n",
        "for i, data in enumerate(test_anomaly_dataset[:6]):\n",
        "  plot_prediction(data, model, title='Anomaly', ax=axs[1, i])\n",
        "\n",
        "fig.tight_layout();"
      ],
      "execution_count": null,
      "outputs": []
    },
    {
      "cell_type": "markdown",
      "metadata": {
        "id": "dC1-69KD2lQ0"
      },
      "source": [
        "## Summary\n",
        "\n",
        "In this tutorial, you learned how to create an LSTM Autoencoder with PyTorch and use it to detect heartbeat anomalies in ECG data.\n",
        "\n",
        "- [Read the tutorial](https://www.curiousily.com/posts/time-series-anomaly-detection-using-lstm-autoencoder-with-pytorch-in-python/)\n",
        "- [Run the notebook in your browser (Google Colab)](https://colab.research.google.com/drive/1_J2MrBSvsJfOcVmYAN2-WSp36BtsFZCa)\n",
        "- [Read the Getting Things Done with Pytorch book](https://github.com/curiousily/Getting-Things-Done-with-Pytorch)\n",
        "\n",
        "You learned how to:\n",
        "\n",
        "- Prepare a dataset for Anomaly Detection from Time Series Data\n",
        "- Build an LSTM Autoencoder with PyTorch\n",
        "- Train and evaluate your model\n",
        "- Choose a threshold for anomaly detection\n",
        "- Classify unseen examples as normal or anomaly\n",
        "\n",
        "While our Time Series data is univariate (we have only 1 feature), the code should work for multivariate datasets (multiple features) with little or no modification. Feel free to try it!"
      ]
    },
    {
      "cell_type": "markdown",
      "metadata": {
        "id": "9icnPwTOW9RF"
      },
      "source": [
        "## References\n",
        "\n",
        "- [Sequitur - Recurrent Autoencoder (RAE)](https://github.com/shobrook/sequitur)\n",
        "- [Towards Never-Ending Learning from Time Series Streams](https://www.cs.ucr.edu/~eamonn/neverending.pdf)\n",
        "- [LSTM Autoencoder for Anomaly Detection](https://towardsdatascience.com/lstm-autoencoder-for-anomaly-detection-e1f4f2ee7ccf)"
      ]
    }
  ]
}